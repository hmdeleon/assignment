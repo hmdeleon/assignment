{
 "cells": [
  {
   "cell_type": "code",
   "execution_count": 5,
   "metadata": {
    "collapsed": true
   },
   "outputs": [],
   "source": [
    "import pandas as pd"
   ]
  },
  {
   "cell_type": "code",
   "execution_count": 6,
   "metadata": {
    "collapsed": true
   },
   "outputs": [],
   "source": [
    "import numpy as np"
   ]
  },
  {
   "cell_type": "code",
   "execution_count": 7,
   "metadata": {},
   "outputs": [
    {
     "name": "stdout",
     "output_type": "stream",
     "text": [
      "Populating the interactive namespace from numpy and matplotlib\n"
     ]
    }
   ],
   "source": [
    "%pylab inline"
   ]
  },
  {
   "cell_type": "markdown",
   "metadata": {},
   "source": [
    "# Import Twitter Data"
   ]
  },
  {
   "cell_type": "code",
   "execution_count": 8,
   "metadata": {
    "collapsed": true
   },
   "outputs": [],
   "source": [
    "df = pd.read_csv('../tweet_activity_metrics_.csv')"
   ]
  },
  {
   "cell_type": "code",
   "execution_count": 9,
   "metadata": {
    "scrolled": true
   },
   "outputs": [
    {
     "data": {
      "text/html": [
       "<div>\n",
       "<style>\n",
       "    .dataframe thead tr:only-child th {\n",
       "        text-align: right;\n",
       "    }\n",
       "\n",
       "    .dataframe thead th {\n",
       "        text-align: left;\n",
       "    }\n",
       "\n",
       "    .dataframe tbody tr th {\n",
       "        vertical-align: top;\n",
       "    }\n",
       "</style>\n",
       "<table border=\"1\" class=\"dataframe\">\n",
       "  <thead>\n",
       "    <tr style=\"text-align: right;\">\n",
       "      <th></th>\n",
       "      <th>Tweet id</th>\n",
       "      <th>Tweet permalink</th>\n",
       "      <th>Tweet text</th>\n",
       "      <th>time</th>\n",
       "      <th>impressions</th>\n",
       "      <th>engagements</th>\n",
       "      <th>engagement rate</th>\n",
       "      <th>retweets</th>\n",
       "      <th>replies</th>\n",
       "      <th>likes</th>\n",
       "      <th>...</th>\n",
       "      <th>promoted hashtag clicks</th>\n",
       "      <th>promoted detail expands</th>\n",
       "      <th>promoted permalink clicks</th>\n",
       "      <th>promoted app opens</th>\n",
       "      <th>promoted app installs</th>\n",
       "      <th>promoted follows</th>\n",
       "      <th>promoted email tweet</th>\n",
       "      <th>promoted dial phone</th>\n",
       "      <th>promoted media views</th>\n",
       "      <th>promoted media engagements</th>\n",
       "    </tr>\n",
       "  </thead>\n",
       "  <tbody>\n",
       "    <tr>\n",
       "      <th>0</th>\n",
       "      <td>913474653246459904</td>\n",
       "      <td>https://twitter.com/FLTechOnline/status/913474...</td>\n",
       "      <td>#TBT to one of our fave #homecoming 2016 memor...</td>\n",
       "      <td>2017-09-28 18:45 +0000</td>\n",
       "      <td>55.0</td>\n",
       "      <td>1.0</td>\n",
       "      <td>0.018182</td>\n",
       "      <td>0.0</td>\n",
       "      <td>0.0</td>\n",
       "      <td>0.0</td>\n",
       "      <td>...</td>\n",
       "      <td>-</td>\n",
       "      <td>-</td>\n",
       "      <td>-</td>\n",
       "      <td>-</td>\n",
       "      <td>-</td>\n",
       "      <td>-</td>\n",
       "      <td>-</td>\n",
       "      <td>-</td>\n",
       "      <td>-</td>\n",
       "      <td>-</td>\n",
       "    </tr>\n",
       "    <tr>\n",
       "      <th>1</th>\n",
       "      <td>913372749179088896</td>\n",
       "      <td>https://twitter.com/FLTechOnline/status/913372...</td>\n",
       "      <td>As we continue to celebrate National #Hispanic...</td>\n",
       "      <td>2017-09-28 12:00 +0000</td>\n",
       "      <td>67.0</td>\n",
       "      <td>1.0</td>\n",
       "      <td>0.014925</td>\n",
       "      <td>0.0</td>\n",
       "      <td>0.0</td>\n",
       "      <td>0.0</td>\n",
       "      <td>...</td>\n",
       "      <td>-</td>\n",
       "      <td>-</td>\n",
       "      <td>-</td>\n",
       "      <td>-</td>\n",
       "      <td>-</td>\n",
       "      <td>-</td>\n",
       "      <td>-</td>\n",
       "      <td>-</td>\n",
       "      <td>-</td>\n",
       "      <td>-</td>\n",
       "    </tr>\n",
       "    <tr>\n",
       "      <th>2</th>\n",
       "      <td>913138703081594880</td>\n",
       "      <td>https://twitter.com/FLTechOnline/status/913138...</td>\n",
       "      <td>It's Women's Health &amp;amp; Fitness Day! Learn h...</td>\n",
       "      <td>2017-09-27 20:30 +0000</td>\n",
       "      <td>55.0</td>\n",
       "      <td>1.0</td>\n",
       "      <td>0.018182</td>\n",
       "      <td>0.0</td>\n",
       "      <td>0.0</td>\n",
       "      <td>0.0</td>\n",
       "      <td>...</td>\n",
       "      <td>-</td>\n",
       "      <td>-</td>\n",
       "      <td>-</td>\n",
       "      <td>-</td>\n",
       "      <td>-</td>\n",
       "      <td>-</td>\n",
       "      <td>-</td>\n",
       "      <td>-</td>\n",
       "      <td>-</td>\n",
       "      <td>-</td>\n",
       "    </tr>\n",
       "    <tr>\n",
       "      <th>3</th>\n",
       "      <td>913105817104273408</td>\n",
       "      <td>https://twitter.com/FLTechOnline/status/913105...</td>\n",
       "      <td>#WednesdayWisdom What tips can you offer to yo...</td>\n",
       "      <td>2017-09-27 18:19 +0000</td>\n",
       "      <td>83.0</td>\n",
       "      <td>3.0</td>\n",
       "      <td>0.036145</td>\n",
       "      <td>0.0</td>\n",
       "      <td>0.0</td>\n",
       "      <td>1.0</td>\n",
       "      <td>...</td>\n",
       "      <td>-</td>\n",
       "      <td>-</td>\n",
       "      <td>-</td>\n",
       "      <td>-</td>\n",
       "      <td>-</td>\n",
       "      <td>-</td>\n",
       "      <td>-</td>\n",
       "      <td>-</td>\n",
       "      <td>-</td>\n",
       "      <td>-</td>\n",
       "    </tr>\n",
       "    <tr>\n",
       "      <th>4</th>\n",
       "      <td>913025449810329601</td>\n",
       "      <td>https://twitter.com/FLTechOnline/status/913025...</td>\n",
       "      <td>Are you an IT professional looking to advance ...</td>\n",
       "      <td>2017-09-27 13:00 +0000</td>\n",
       "      <td>70.0</td>\n",
       "      <td>2.0</td>\n",
       "      <td>0.028571</td>\n",
       "      <td>0.0</td>\n",
       "      <td>0.0</td>\n",
       "      <td>0.0</td>\n",
       "      <td>...</td>\n",
       "      <td>-</td>\n",
       "      <td>-</td>\n",
       "      <td>-</td>\n",
       "      <td>-</td>\n",
       "      <td>-</td>\n",
       "      <td>-</td>\n",
       "      <td>-</td>\n",
       "      <td>-</td>\n",
       "      <td>-</td>\n",
       "      <td>-</td>\n",
       "    </tr>\n",
       "  </tbody>\n",
       "</table>\n",
       "<p>5 rows × 40 columns</p>\n",
       "</div>"
      ],
      "text/plain": [
       "             Tweet id                                    Tweet permalink  \\\n",
       "0  913474653246459904  https://twitter.com/FLTechOnline/status/913474...   \n",
       "1  913372749179088896  https://twitter.com/FLTechOnline/status/913372...   \n",
       "2  913138703081594880  https://twitter.com/FLTechOnline/status/913138...   \n",
       "3  913105817104273408  https://twitter.com/FLTechOnline/status/913105...   \n",
       "4  913025449810329601  https://twitter.com/FLTechOnline/status/913025...   \n",
       "\n",
       "                                          Tweet text                    time  \\\n",
       "0  #TBT to one of our fave #homecoming 2016 memor...  2017-09-28 18:45 +0000   \n",
       "1  As we continue to celebrate National #Hispanic...  2017-09-28 12:00 +0000   \n",
       "2  It's Women's Health &amp; Fitness Day! Learn h...  2017-09-27 20:30 +0000   \n",
       "3  #WednesdayWisdom What tips can you offer to yo...  2017-09-27 18:19 +0000   \n",
       "4  Are you an IT professional looking to advance ...  2017-09-27 13:00 +0000   \n",
       "\n",
       "   impressions  engagements  engagement rate  retweets  replies  likes  \\\n",
       "0         55.0          1.0         0.018182       0.0      0.0    0.0   \n",
       "1         67.0          1.0         0.014925       0.0      0.0    0.0   \n",
       "2         55.0          1.0         0.018182       0.0      0.0    0.0   \n",
       "3         83.0          3.0         0.036145       0.0      0.0    1.0   \n",
       "4         70.0          2.0         0.028571       0.0      0.0    0.0   \n",
       "\n",
       "              ...              promoted hashtag clicks  \\\n",
       "0             ...                                    -   \n",
       "1             ...                                    -   \n",
       "2             ...                                    -   \n",
       "3             ...                                    -   \n",
       "4             ...                                    -   \n",
       "\n",
       "   promoted detail expands  promoted permalink clicks  promoted app opens  \\\n",
       "0                        -                          -                   -   \n",
       "1                        -                          -                   -   \n",
       "2                        -                          -                   -   \n",
       "3                        -                          -                   -   \n",
       "4                        -                          -                   -   \n",
       "\n",
       "   promoted app installs  promoted follows  promoted email tweet  \\\n",
       "0                      -                 -                     -   \n",
       "1                      -                 -                     -   \n",
       "2                      -                 -                     -   \n",
       "3                      -                 -                     -   \n",
       "4                      -                 -                     -   \n",
       "\n",
       "   promoted dial phone  promoted media views  promoted media engagements  \n",
       "0                    -                     -                           -  \n",
       "1                    -                     -                           -  \n",
       "2                    -                     -                           -  \n",
       "3                    -                     -                           -  \n",
       "4                    -                     -                           -  \n",
       "\n",
       "[5 rows x 40 columns]"
      ]
     },
     "execution_count": 9,
     "metadata": {},
     "output_type": "execute_result"
    }
   ],
   "source": [
    "df.head()"
   ]
  },
  {
   "cell_type": "markdown",
   "metadata": {},
   "source": [
    "# Examine Data Types"
   ]
  },
  {
   "cell_type": "code",
   "execution_count": 10,
   "metadata": {},
   "outputs": [
    {
     "data": {
      "text/plain": [
       "Tweet id                          int64\n",
       "Tweet permalink                  object\n",
       "Tweet text                       object\n",
       "time                             object\n",
       "impressions                     float64\n",
       "engagements                     float64\n",
       "engagement rate                 float64\n",
       "retweets                        float64\n",
       "replies                         float64\n",
       "likes                           float64\n",
       "user profile clicks             float64\n",
       "url clicks                      float64\n",
       "hashtag clicks                  float64\n",
       "detail expands                  float64\n",
       "permalink clicks                float64\n",
       "app opens                         int64\n",
       "app installs                      int64\n",
       "follows                           int64\n",
       "email tweet                       int64\n",
       "dial phone                        int64\n",
       "media views                       int64\n",
       "media engagements                 int64\n",
       "promoted impressions             object\n",
       "promoted engagements             object\n",
       "promoted engagement rate         object\n",
       "promoted retweets                object\n",
       "promoted replies                 object\n",
       "promoted likes                   object\n",
       "promoted user profile clicks     object\n",
       "promoted url clicks              object\n",
       "promoted hashtag clicks          object\n",
       "promoted detail expands          object\n",
       "promoted permalink clicks        object\n",
       "promoted app opens               object\n",
       "promoted app installs            object\n",
       "promoted follows                 object\n",
       "promoted email tweet             object\n",
       "promoted dial phone              object\n",
       "promoted media views             object\n",
       "promoted media engagements       object\n",
       "dtype: object"
      ]
     },
     "execution_count": 10,
     "metadata": {},
     "output_type": "execute_result"
    }
   ],
   "source": [
    "df.dtypes"
   ]
  },
  {
   "cell_type": "markdown",
   "metadata": {},
   "source": [
    "# Check out Impressions"
   ]
  },
  {
   "cell_type": "code",
   "execution_count": 11,
   "metadata": {},
   "outputs": [
    {
     "data": {
      "text/plain": [
       "count     61.000000\n",
       "mean     144.672131\n",
       "std       42.003461\n",
       "min       55.000000\n",
       "25%      123.000000\n",
       "50%      139.000000\n",
       "75%      162.000000\n",
       "max      233.000000\n",
       "Name: impressions, dtype: float64"
      ]
     },
     "execution_count": 11,
     "metadata": {},
     "output_type": "execute_result"
    }
   ],
   "source": [
    "df.describe()['impressions']"
   ]
  },
  {
   "cell_type": "markdown",
   "metadata": {},
   "source": [
    "# Check out Engagements"
   ]
  },
  {
   "cell_type": "code",
   "execution_count": 12,
   "metadata": {
    "scrolled": true
   },
   "outputs": [
    {
     "data": {
      "text/plain": [
       "count    61.000000\n",
       "mean      2.016393\n",
       "std       1.910426\n",
       "min       0.000000\n",
       "25%       1.000000\n",
       "50%       2.000000\n",
       "75%       3.000000\n",
       "max       9.000000\n",
       "Name: engagements, dtype: float64"
      ]
     },
     "execution_count": 12,
     "metadata": {},
     "output_type": "execute_result"
    }
   ],
   "source": [
    "df.describe()['engagements']"
   ]
  },
  {
   "cell_type": "markdown",
   "metadata": {},
   "source": [
    "# Plot Engagement Rate"
   ]
  },
  {
   "cell_type": "code",
   "execution_count": 1,
   "metadata": {
    "collapsed": true
   },
   "outputs": [],
   "source": [
    "#TODO plot engagement rate against date"
   ]
  },
  {
   "cell_type": "markdown",
   "metadata": {
    "collapsed": true
   },
   "source": [
    "# Module 10 Testing"
   ]
  },
  {
   "cell_type": "code",
   "execution_count": 2,
   "metadata": {},
   "outputs": [
    {
     "ename": "SyntaxError",
     "evalue": "invalid syntax (<ipython-input-2-e33332c40d9a>, line 3)",
     "output_type": "error",
     "traceback": [
      "\u001b[0;36m  File \u001b[0;32m\"<ipython-input-2-e33332c40d9a>\"\u001b[0;36m, line \u001b[0;32m3\u001b[0m\n\u001b[0;31m    from voluptuous import Schema, Required, Range, All, ALLOW EXTRA\u001b[0m\n\u001b[0m                                                                   ^\u001b[0m\n\u001b[0;31mSyntaxError\u001b[0m\u001b[0;31m:\u001b[0m invalid syntax\n"
     ]
    }
   ],
   "source": [
    "import logging\n",
    "from datetime import datetime\n",
    "from voluptuous import Schema, Required, Range, All, ALLOW EXTRA\n",
    "from voluptuous.error import MultipleInvalid, Invalid"
   ]
  },
  {
   "cell_type": "code",
   "execution_count": 3,
   "metadata": {},
   "outputs": [
    {
     "ename": "NameError",
     "evalue": "name 'logging' is not defined",
     "output_type": "error",
     "traceback": [
      "\u001b[0;31m---------------------------------------------------------------------------\u001b[0m",
      "\u001b[0;31mNameError\u001b[0m                                 Traceback (most recent call last)",
      "\u001b[0;32m<ipython-input-3-729a89e981b4>\u001b[0m in \u001b[0;36m<module>\u001b[0;34m()\u001b[0m\n\u001b[0;32m----> 1\u001b[0;31m \u001b[0mlogger\u001b[0m \u001b[0;34m=\u001b[0m \u001b[0mlogging\u001b[0m\u001b[0;34m.\u001b[0m\u001b[0mgetLogger\u001b[0m\u001b[0;34m(\u001b[0m\u001b[0;36m0\u001b[0m\u001b[0;34m)\u001b[0m\u001b[0;34m\u001b[0m\u001b[0m\n\u001b[0m\u001b[1;32m      2\u001b[0m \u001b[0mlogger\u001b[0m\u001b[0;34m.\u001b[0m\u001b[0msetLevel\u001b[0m\u001b[0;34m(\u001b[0m\u001b[0mlogging\u001b[0m\u001b[0;34m.\u001b[0m\u001b[0mWARNING\u001b[0m\u001b[0;34m)\u001b[0m\u001b[0;34m\u001b[0m\u001b[0m\n",
      "\u001b[0;31mNameError\u001b[0m: name 'logging' is not defined"
     ]
    }
   ],
   "source": [
    "logger = logging.getLogger(0)\n",
    "logger.setLevel(logging.WARNING)"
   ]
  },
  {
   "cell_type": "code",
   "execution_count": 5,
   "metadata": {},
   "outputs": [
    {
     "ename": "NameError",
     "evalue": "name 'Schema' is not defined",
     "output_type": "error",
     "traceback": [
      "\u001b[0;31m---------------------------------------------------------------------------\u001b[0m",
      "\u001b[0;31mNameError\u001b[0m                                 Traceback (most recent call last)",
      "\u001b[0;32m<ipython-input-5-852c0740d2f6>\u001b[0m in \u001b[0;36m<module>\u001b[0;34m()\u001b[0m\n\u001b[0;32m----> 1\u001b[0;31m schema = Schema({\n\u001b[0m\u001b[1;32m      2\u001b[0m     \u001b[0mRequired\u001b[0m\u001b[0;34m(\u001b[0m\u001b[0;34m'impressions'\u001b[0m\u001b[0;34m)\u001b[0m\u001b[0;34m:\u001b[0m \u001b[0mAll\u001b[0m\u001b[0;34m(\u001b[0m\u001b[0mfloat\u001b[0m\u001b[0;34m,\u001b[0m \u001b[0mRange\u001b[0m\u001b[0;34m(\u001b[0m\u001b[0mmin\u001b[0m \u001b[0;34m=\u001b[0m \u001b[0;36m55\u001b[0m\u001b[0;34m,\u001b[0m \u001b[0mmax\u001b[0m \u001b[0;34m=\u001b[0m \u001b[0;36m233\u001b[0m\u001b[0;34m)\u001b[0m\u001b[0;34m)\u001b[0m\u001b[0;34m\u001b[0m\u001b[0m\n\u001b[1;32m      3\u001b[0m }, extra=ALLOW_EXTRA)\n",
      "\u001b[0;31mNameError\u001b[0m: name 'Schema' is not defined"
     ]
    }
   ],
   "source": [
    "schema = Schema({\n",
    "    Required('impressions'): All(float, Range(min = 55, max = 233))\n",
    "}, extra=ALLOW_EXTRA)"
   ]
  },
  {
   "cell_type": "markdown",
   "metadata": {},
   "source": [
    "# Debugging Notes"
   ]
  },
  {
   "cell_type": "markdown",
   "metadata": {},
   "source": [
    "I was very lost on this assignment, despite consuming the course material. My goal was to use voluptuous to test that the impressions are a float type and if they go outside the range I found in my earlier script. I feel like I can't really write my own code/scripts, so I'm nowhwere near ready to write tests for it! I tried to get through, but am once again stymied. "
   ]
  }
 ],
 "metadata": {
  "kernelspec": {
   "display_name": "Python 3",
   "language": "python",
   "name": "python3"
  },
  "language_info": {
   "codemirror_mode": {
    "name": "ipython",
    "version": 3
   },
   "file_extension": ".py",
   "mimetype": "text/x-python",
   "name": "python",
   "nbconvert_exporter": "python",
   "pygments_lexer": "ipython3",
   "version": "3.6.1"
  }
 },
 "nbformat": 4,
 "nbformat_minor": 2
}
